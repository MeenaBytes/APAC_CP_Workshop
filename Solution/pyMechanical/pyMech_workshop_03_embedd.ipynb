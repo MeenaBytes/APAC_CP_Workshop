{
 "cells": [
  {
   "cell_type": "markdown",
   "metadata": {},
   "source": [
    "\n",
    "# Notes :\n",
    "    1. when running inside mechanical (remote, ansys-mechanical CLI, and paste into script editor), the full path is needed.\n",
    "    2. when running with embedding, the full path is not needed.\n",
    "\n",
    "    3. when running the remote interface, the print statements are ignored. Instead, the values can be accessed by running\n",
    "    code like this:\n",
    "\n",
    "```\n",
    "        import ansys.mechanical.core as mech\n",
    "        mechanical = mech.launch_mechanical(batch=True, loglevel=\"DEBUG\")\n",
    "        mechanical.run_python_script_from_file(\"path\\\\to\\\\script.py\")\n",
    "        mechanical.run_python_script(\"buck_deformation_1.LoadMultiplier\")\n",
    "        mechanical.exit()\n",
    "```"
   ]
  },
  {
   "cell_type": "code",
   "execution_count": null,
   "metadata": {},
   "outputs": [],
   "source": [
    "# embedding import block. If running in IronPython, this will do nothing.\n",
    "try:\n",
    "    import ansys.mechanical.core as mech\n",
    "    app = mech.App(version=241)\n",
    "    globals().update(mech.global_variables(app, True))\n",
    "except ImportError as e:\n",
    "    pass"
   ]
  },
  {
   "cell_type": "code",
   "execution_count": null,
   "metadata": {},
   "outputs": [],
   "source": [
    "import os\n",
    "\n",
    "geometry_file = os.path.abspath(os.path.join(os.getcwd(), \"Files\", \"Eng157.x_t\"))\n",
    "if not os.path.isfile(geometry_file):\n",
    "    geometry_file = r\"path\\to\\Files\\Eng157.x_t\""
   ]
  },
  {
   "cell_type": "code",
   "execution_count": null,
   "metadata": {},
   "outputs": [],
   "source": [
    "print(os.getcwd())"
   ]
  },
  {
   "cell_type": "code",
   "execution_count": null,
   "metadata": {},
   "outputs": [],
   "source": [
    "geometry_import = Model.GeometryImportGroup.AddGeometryImport()\n",
    "geometry_import.Import(geometry_file)\n",
    "\n",
    "Model.Geometry.ElementControl = ElementControl.Manual"
   ]
  },
  {
   "cell_type": "code",
   "execution_count": null,
   "metadata": {},
   "outputs": [],
   "source": [
    "struc = Model.AddStaticStructuralAnalysis()\n",
    "buck = Model.AddEigenvalueBucklingAnalysis()\n",
    "Model.Analyses[1].InitialConditions[0].PreStressICEnvironment = Model.Analyses[0]\n",
    "ExtAPI.Application.ActiveUnitSystem = MechanicalUnitSystem.StandardBIN"
   ]
  },
  {
   "cell_type": "code",
   "execution_count": null,
   "metadata": {},
   "outputs": [],
   "source": [
    "ns_support = Model.AddNamedSelection()\n",
    "ns_support.ScopingMethod = GeometryDefineByType.Worksheet\n",
    "ns_support.Name = \"NS_SUPPORT\"\n",
    "ns_support.GenerationCriteria.Add()\n",
    "criteria = ns_support.GenerationCriteria[0]\n",
    "criteria.EntityType = SelectionType.GeoFace\n",
    "criteria.Criterion = SelectionCriterionType.LocationZ\n",
    "criteria.Operator = SelectionOperatorType.Equal\n",
    "criteria.Value = Quantity('0 [in]')\n",
    "ns_support.Generate()"
   ]
  },
  {
   "cell_type": "code",
   "execution_count": null,
   "metadata": {},
   "outputs": [],
   "source": [
    "fixed_support = struc.AddFixedSupport()\n",
    "fixed_support.Location = ns_support"
   ]
  },
  {
   "cell_type": "code",
   "execution_count": null,
   "metadata": {},
   "outputs": [],
   "source": [
    "ns_force = Model.AddNamedSelection()\n",
    "ns_force.ScopingMethod = GeometryDefineByType.Worksheet\n",
    "ns_force.Name = \"NS_FORCE\"\n",
    "ns_force.GenerationCriteria.Add()\n",
    "criteria = ns_force.GenerationCriteria[0]\n",
    "criteria.EntityType = SelectionType.GeoFace\n",
    "criteria.Criterion = SelectionCriterionType.LocationZ\n",
    "criteria.Operator = SelectionOperatorType.Equal\n",
    "criteria.Value = Quantity('100 [in]')\n",
    "ns_force.Generate()"
   ]
  },
  {
   "cell_type": "code",
   "execution_count": null,
   "metadata": {},
   "outputs": [],
   "source": [
    "force = struc.AddForce()\n",
    "force.Location = ns_force\n",
    "force.DefineBy = LoadDefineBy.Components\n",
    "force.ZComponent.Output.SetDiscreteValue(0, Quantity(\"-1 [lbf]\"))"
   ]
  },
  {
   "cell_type": "code",
   "execution_count": null,
   "metadata": {},
   "outputs": [],
   "source": [
    "buck.AnalysisSettings.MaximumModesToFind = 6\n",
    "buck.AnalysisSettings.Stress = True\n",
    "buck.AnalysisSettings.Strain = True\n",
    "\n",
    "buck_deformation_1 = buck.Solution.AddTotalDeformation()\n",
    "buck_deformation_1.Mode = 1\n",
    "buck_deformation_2 = buck.Solution.AddTotalDeformation()\n",
    "buck_deformation_2.Mode = 2\n",
    "buck_deformation_3 = buck.Solution.AddTotalDeformation()\n",
    "buck_deformation_3.Mode = 3\n",
    "buck_deformation_4 = buck.Solution.AddTotalDeformation()\n",
    "buck_deformation_4.Mode = 4\n",
    "buck_deformation_5 = buck.Solution.AddTotalDeformation()\n",
    "buck_deformation_5.Mode = 5\n",
    "buck_deformation_6 = buck.Solution.AddTotalDeformation()\n",
    "buck_deformation_6.Mode = 6\n",
    "buck_stress_eqv = buck.Solution.AddEquivalentStress()\n",
    "buck_stress_eqv.Mode = 6"
   ]
  },
  {
   "cell_type": "code",
   "execution_count": null,
   "metadata": {},
   "outputs": [],
   "source": [
    "Model.Solve(True)\n",
    "assert buck.Solution.ObjectState == ObjectState.Solved\n",
    "assert struc.Solution.ObjectState == ObjectState.Solved"
   ]
  },
  {
   "cell_type": "code",
   "execution_count": null,
   "metadata": {},
   "outputs": [],
   "source": [
    "print(\"Mode 1 deformation load multiplier: \", buck_deformation_1.LoadMultiplier)\n",
    "print(\"Mode 2 deformation load multiplier: \", buck_deformation_2.LoadMultiplier)\n",
    "print(\"Mode 3 deformation load multiplier: \", buck_deformation_3.LoadMultiplier)\n",
    "print(\"Mode 4 deformation load multiplier: \", buck_deformation_4.LoadMultiplier)\n",
    "print(\"Mode 5 deformation load multiplier: \", buck_deformation_5.LoadMultiplier)\n",
    "print(\"Mode 6 deformation load multiplier: \", buck_deformation_6.LoadMultiplier)\n",
    "print(\"Mode 6 equivalent stress maximum: \", buck_stress_eqv.Maximum)"
   ]
  }
 ],
 "metadata": {
  "kernelspec": {
   "display_name": ".venv",
   "language": "python",
   "name": "python3"
  },
  "language_info": {
   "codemirror_mode": {
    "name": "ipython",
    "version": 3
   },
   "file_extension": ".py",
   "mimetype": "text/x-python",
   "name": "python",
   "nbconvert_exporter": "python",
   "pygments_lexer": "ipython3",
   "version": "3.9.13"
  }
 },
 "nbformat": 4,
 "nbformat_minor": 2
}
