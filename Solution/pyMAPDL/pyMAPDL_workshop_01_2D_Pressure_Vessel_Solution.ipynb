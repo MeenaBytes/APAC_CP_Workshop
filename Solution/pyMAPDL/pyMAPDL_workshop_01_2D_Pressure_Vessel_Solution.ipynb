{
  "cells": [
    {
      "cell_type": "markdown",
      "metadata": {},
      "source": [
        "2D Pressure Vessel {#2d_pressure_vessel_example}\n",
        "==================\n",
        "\n",
        "This workshop demonstrates how to create a basic pressure vessel and\n",
        "apply a pressure to it.\n",
        "\n",
        "Objective\n",
        "---------\n",
        "\n",
        "In this example we will perform stress analysis of pipe due to internal\n",
        "pressure. Due to the symmetry in geometry and loading, the strain along\n",
        "its axis is negligible and therefore we model this system as 2D plane\n",
        "strain.\n",
        "\n",
        "Procedure\n",
        "---------\n",
        "\n",
        "-   Launch MAPDL instance\n",
        "-   Converting MAPDL script file to pyMAPDL\n",
        "    1. Using `pymapdl convert` command utility\n",
        "    2. Using `pymapdl.convert_script()` method\n",
        "-   Create function to run the pymapdl script for varying mesh sizes\n",
        "-   Automate mesh convergence study\n",
        "-   Plot results of interest\n",
        "\n",
        "Additional Packages Used\n",
        "------------------------\n",
        "\n",
        "-   [Matplotlib](https://matplotlib.org) is used for plotting purposes.\n",
        "-   [NumPy](https://numpy.org) is used for using NumPy arrays.\n",
        "\n",
        "Workshop Starts\n",
        "--------------\n",
        "\n",
        "After converting the script proceed to modify below where ` your script goes here `\n"
      ]
    },
    {
      "cell_type": "markdown",
      "metadata": {},
      "source": []
    },
    {
      "cell_type": "code",
      "execution_count": null,
      "metadata": {
        "collapsed": false
      },
      "outputs": [],
      "source": [
        "import matplotlib.pyplot as plt"
      ]
    },
    {
      "cell_type": "markdown",
      "metadata": {},
      "source": [
        "Launch MAPDL\n",
        "============\n"
      ]
    },
    {
      "cell_type": "code",
      "execution_count": null,
      "metadata": {
        "collapsed": false
      },
      "outputs": [],
      "source": [
        "import numpy as np\n",
        "\n",
        "from ansys.mapdl.core import launch_mapdl\n",
        "\n",
        "# start mapdl\n",
        "mapdl = launch_mapdl()###############your script goes here###########################"
      ]
    },
    {
      "cell_type": "markdown",
      "metadata": {},
      "source": [
        "Setup the pipe cross section using Python function\n",
        "\n",
        "We use a function here so we can rebuild the pipe using parameters\n",
        "rather than calling a script several times.\n"
      ]
    },
    {
      "cell_type": "code",
      "execution_count": null,
      "metadata": {
        "collapsed": false
      },
      "outputs": [],
      "source": [
        "def pipe_plane_strain(e, nu, inner_radius, outer_radius, pressure, element_size):\n",
        "    \"\"\"Create 2D cross section modeling a pipe.\"\"\"\n",
        "\n",
        "    ###############your script goes here###########################\n",
        "\n",
        "    mapdl.clear()\n",
        "\n",
        "    mapdl.prep7()\n",
        "\n",
        "\n",
        "    # Execute below lines within a function to execute in a loop\n",
        "    mapdl.et(1, 182, \"\", \"\", 2)\n",
        "\n",
        "    mapdl.pcirc(inner_radius, outer_radius, 0, 90)\n",
        "    mapdl.cm(\"pipe_profile\", \"area\")\n",
        "    mapdl.mp(\"ex\", 1, e)\n",
        "    mapdl.mp(\"prxy\", 1, nu)\n",
        "\n",
        "\n",
        "    mapdl.aesize(\"all\", element_size)\n",
        "    mapdl.mshape(0, \"2D\")\n",
        "    mapdl.mshkey(1)\n",
        "    mapdl.cmsel(\"s\", \"pipe_profile\")\n",
        "    mapdl.amesh(\"all\")\n",
        "\n",
        "\n",
        "    mapdl.nsel(\"s\", \"loc\", \"x\")\n",
        "    mapdl.cm(\"x_fixed\", \"nodes\")\n",
        "    mapdl.nsel(\"s\", \"loc\", \"y\")\n",
        "    mapdl.cm(\"y_fixed\", \"node\")\n",
        "\n",
        "    mapdl.lsel(\"s\", \"radius\", \"\", inner_radius)\n",
        "    mapdl.cm(\"pressure_edge\", \"line\")\n",
        "    mapdl.allsel(\"all\", \"all\")\n",
        "\n",
        "    mapdl.slashsolu()\n",
        "    mapdl.antype(\"static\")\n",
        "    mapdl.d(\"x_fixed\", \"ux\")\n",
        "    mapdl.d(\"y_fixed\", \"uy\")\n",
        "\n",
        "    mapdl.csys(1)\n",
        "    mapdl.sfl(\"pressure_edge\", \"pres\", pressure)\n",
        "    mapdl.allsel(\"all\", \"all\")\n",
        "    mapdl.solve()\n",
        "    mapdl.finish()\n",
        "\n",
        "    mapdl.post1()\n",
        "    mapdl.set(1, 1)\n",
        "\n",
        "\n",
        "    max_eqv_stress = np.max(mapdl.post_processing.nodal_eqv_stress())\n",
        "    all_dof = mapdl.mesh.nnum_all\n",
        "    num_dof = all_dof.size\n",
        "\n",
        "    return num_dof, max_eqv_stress"
      ]
    },
    {
      "cell_type": "markdown",
      "metadata": {},
      "source": [
        "Perform the mesh convergence study\n",
        "==================================\n"
      ]
    },
    {
      "cell_type": "code",
      "execution_count": null,
      "metadata": {
        "collapsed": false
      },
      "outputs": [],
      "source": [
        "# Define model input parameters\n",
        "rad1 = 175  # Internal radius\n",
        "rad2 = 200  # External radius\n",
        "pressure = 100\n",
        "\n",
        "e = 2e5  # Young's modulus\n",
        "nu = 0.3  # Poisson's ratio\n",
        "\n",
        "# Define mesh convergence parameters\n",
        "num_dof = []\n",
        "max_stress = []\n",
        "\n",
        "# element size: use log space since mesh converges logarithmically\n",
        "esizes = np.logspace(1.4, 0, 20)\n",
        "\n",
        "# run the mesh convergence and output the results on the fly\n",
        "for esize in esizes:\n",
        "    dof, eqv_stress = pipe_plane_strain(e, nu, rad1, rad2, pressure, esize)\n",
        "    num_dof.append(dof)\n",
        "    max_stress.append(eqv_stress)\n",
        "    print(f\"DOF: {dof:5d}   Stress: {eqv_stress:.2f} MPa\")"
      ]
    },
    {
      "cell_type": "markdown",
      "metadata": {},
      "source": [
        "Plot mesh convergence results\n",
        "=============================\n",
        "\n",
        "Draw a dotted line showing the convergence value\n"
      ]
    },
    {
      "cell_type": "code",
      "execution_count": null,
      "metadata": {
        "collapsed": false
      },
      "outputs": [],
      "source": [
        "plt.plot(num_dof, max_stress, \"b-o\")\n",
        "plt.plot([num_dof[0], num_dof[-1]], [max_stress[-1], max_stress[-1]], \"r:\")\n",
        "plt.title(\"Mesh Convergence Study\")\n",
        "plt.xlabel(\"Number of DOF\")\n",
        "plt.ylabel(\"Maximum eqv. Stress (MPa)\")\n",
        "plt.show()"
      ]
    },
    {
      "cell_type": "markdown",
      "metadata": {},
      "source": [
        "Resume results from last analysis from mesh convergence study\n"
      ]
    },
    {
      "cell_type": "code",
      "execution_count": null,
      "metadata": {
        "collapsed": false
      },
      "outputs": [],
      "source": [
        "# Plot the final mesh used\n",
        "mapdl.allsel(\"ALL\")\n",
        "mapdl.eplot(\n",
        "    title=\"Element Plot\",\n",
        "    line_width=1,\n",
        "    show_bounds=True,\n",
        "    cpos=\"xy\",\n",
        ")"
      ]
    },
    {
      "cell_type": "markdown",
      "metadata": {},
      "source": [
        "Plot nodal displacement\n",
        "=======================\n",
        "\n",
        "Enter post-processing (/POST1) and select the first load step\n"
      ]
    },
    {
      "cell_type": "code",
      "execution_count": null,
      "metadata": {
        "collapsed": false
      },
      "outputs": [],
      "source": [
        "mapdl.post1()\n",
        "mapdl.set(1, 1)\n",
        "\n",
        "mapdl.post_processing.plot_nodal_displacement(\n",
        "    \"NORM\",\n",
        "    cpos=\"xy\",\n",
        "    cmap=\"magma\",\n",
        ")"
      ]
    },
    {
      "cell_type": "markdown",
      "metadata": {},
      "source": [
        "Plot nodal equivalent stress\n",
        "============================\n"
      ]
    },
    {
      "cell_type": "code",
      "execution_count": null,
      "metadata": {
        "collapsed": false
      },
      "outputs": [],
      "source": [
        "mapdl.post_processing.plot_nodal_eqv_stress(cpos=\"xy\", cmap=\"magma\")"
      ]
    },
    {
      "cell_type": "markdown",
      "metadata": {},
      "source": [
        "Stop mapdl\n",
        "==========\n"
      ]
    },
    {
      "cell_type": "code",
      "execution_count": null,
      "metadata": {
        "collapsed": false
      },
      "outputs": [],
      "source": [
        "mapdl.exit()"
      ]
    }
  ],
  "metadata": {
    "kernelspec": {
      "display_name": "Python 3",
      "language": "python",
      "name": "python3"
    },
    "language_info": {
      "codemirror_mode": {
        "name": "ipython",
        "version": 3
      },
      "file_extension": ".py",
      "mimetype": "text/x-python",
      "name": "python",
      "nbconvert_exporter": "python",
      "pygments_lexer": "ipython3",
      "version": "3.9.13"
    }
  },
  "nbformat": 4,
  "nbformat_minor": 0
}
